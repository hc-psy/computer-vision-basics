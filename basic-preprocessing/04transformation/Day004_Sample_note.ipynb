{
 "cells": [
  {
   "cell_type": "markdown",
   "metadata": {},
   "source": [
    "# 範例\n",
    "\n",
    "實作本篇提到的三大概念\n",
    "\n",
    "*data augmentation*\n",
    "\n",
    "除了增加資料量的 Image Augmentation 以外\n",
    "\n",
    "幾何轉換的概念也經常應用在架構上的設計或是前處理與後處理\n",
    "\n",
    "* 透過縮放做 upsample / downsample\n",
    "* 透過 affine transform 做匹配處理\n",
    "* 透過 perspective transform 做對齊處理\n",
    "\n",
    "**transformation**\n",
    "\n",
    "- 翻轉：實作上下翻轉\n",
    "- 縮放：實作鄰近差值\n",
    "- 平移：建立 Translation Transformation Matrix 來做平移"
   ]
  },
  {
   "cell_type": "code",
   "execution_count": 1,
   "metadata": {},
   "outputs": [],
   "source": [
    "import cv2\n",
    "import time\n",
    "import numpy as np\n",
    "\n",
    "img_path = 'lena.png'\n",
    "img = cv2.imread(img_path)"
   ]
  },
  {
   "cell_type": "markdown",
   "metadata": {},
   "source": [
    "## 上下翻轉圖片\n",
    "\n",
    "flip (start, end, step)"
   ]
  },
  {
   "cell_type": "code",
   "execution_count": 2,
   "metadata": {},
   "outputs": [],
   "source": [
    "# 垂直翻轉 (vertical)\n",
    "img_vflip = img[::-1, :, :] # shape0 flip image[y,x,channel]\n",
    "\n",
    "# 組合 + 顯示圖片\n",
    "hflip = np.vstack((img, img_vflip))\n",
    "while True:\n",
    "    cv2.imshow('flip image', hflip)\n",
    "    k = cv2.waitKey(0)\n",
    "    if k == 27:\n",
    "        cv2.destroyAllWindows()\n",
    "        break"
   ]
  },
  {
   "cell_type": "markdown",
   "metadata": {},
   "source": [
    "## 縮放圖片\n",
    "\n",
    "### 放大\n",
    "\n",
    "我們先透過縮小圖片去壓縮原有圖片保有的資訊，再放大比較不同方法之間的速度與圖片品質"
   ]
  },
  {
   "cell_type": "code",
   "execution_count": 9,
   "metadata": {},
   "outputs": [
    {
     "name": "stdout",
     "output_type": "stream",
     "text": [
      "INTER_NEAREST zoom cost 0.000988006591796875\n"
     ]
    }
   ],
   "source": [
    "# 將圖片縮小成原本的 20%\n",
    "img_test = cv2.resize(img, None, fx=0.2, fy=0.2) #cv2.resize(img,shape,fx,fy,interpolation) shape and fx/fy擇一\n",
    "\n",
    "'''\n",
    "其中縮放操作的方式 (interpolation) 會影響處理的速度與圖片品質：\n",
    "\n",
    "cv2.INTER_NEAREST: 最鄰近插點法\n",
    "cv2.INTER_LINEAR: 雙線性插補(預設)\n",
    "cv2.INTER_AREA: 臨域像素再取樣插補\n",
    "cv2.INTER_CUBIC: 雙立方插補，4×4大小的補點\n",
    "cv2.INTER_LANCZOS4: Lanczos插補，8×8大小的補點\n",
    "\n",
    "\n",
    "因為縮小跟放大要參考周圍的 pixel 值\n",
    "經過統計與運算去減少 / 生成新的 pixel 值\n",
    "\n",
    "預設縮放皆 INTER_LINEAR\n",
    "建議縮小用 INTER_AREA\n",
    "建議放大用 INTER_CUBIC (slow) 或是 INTER_LINEAR\n",
    "'''\n",
    "\n",
    "\n",
    "# 將圖片放大為\"小圖片\"的 8 倍大 = 原圖的 1.6 倍大\n",
    "fx, fy = 8, 8\n",
    "\n",
    "# 鄰近差值 scale + 計算花費時間\n",
    "start_time = time.time()\n",
    "img_area_scale = cv2.resize(img_test, None, fx=fx, fy=fy, interpolation=cv2.INTER_NEAREST)\n",
    "print('INTER_NEAREST zoom cost {}'.format(time.time() - start_time))\n",
    "\n",
    "# 組合 + 顯示圖片\n",
    "orig_img = cv2.resize(img, img_area_scale.shape[:2])\n",
    "img_zoom = np.hstack((orig_img, img_area_scale))\n",
    "while True:\n",
    "    cv2.imshow('zoom image', img_zoom)\n",
    "    k = cv2.waitKey(0)\n",
    "    if k == 27:\n",
    "        cv2.destroyAllWindows()\n",
    "        break"
   ]
  },
  {
   "cell_type": "markdown",
   "metadata": {},
   "source": [
    "## 平移幾何轉換\n",
    "\n",
    "選轉矩陣"
   ]
  },
  {
   "cell_type": "code",
   "execution_count": 4,
   "metadata": {},
   "outputs": [],
   "source": [
    "# 設定 translation transformation matrix\n",
    "# x 平移 100 pixel; y 平移 50 pixel\n",
    "M = np.array([[1, 0, 100],\n",
    "              [0, 1, 50]], dtype=np.float32)\n",
    "shift_img = cv2.warpAffine(img, M, (img.shape[1], img.shape[0]))\n",
    "\n",
    "# 組合 + 顯示圖片\n",
    "img_shift = np.hstack((img, shift_img))\n",
    "while True:\n",
    "    cv2.imshow('shift image', img_shift)\n",
    "    k = cv2.waitKey(0)\n",
    "    if k == 27:\n",
    "        cv2.destroyAllWindows()\n",
    "        break"
   ]
  },
  {
   "cell_type": "code",
   "execution_count": null,
   "metadata": {},
   "outputs": [],
   "source": []
  }
 ],
 "metadata": {
  "kernelspec": {
   "display_name": "Python 3",
   "language": "python",
   "name": "python3"
  },
  "language_info": {
   "codemirror_mode": {
    "name": "ipython",
    "version": 3
   },
   "file_extension": ".py",
   "mimetype": "text/x-python",
   "name": "python",
   "nbconvert_exporter": "python",
   "pygments_lexer": "ipython3",
   "version": "3.7.1"
  }
 },
 "nbformat": 4,
 "nbformat_minor": 2
}
