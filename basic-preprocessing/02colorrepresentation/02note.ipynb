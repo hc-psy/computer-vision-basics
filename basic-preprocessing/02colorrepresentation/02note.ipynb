{
 "cells": [
  {
   "cell_type": "markdown",
   "metadata": {},
   "source": [
    "## Color representations\n",
    "\n",
    "**HSL(Hue, Saturation, Lightness) and HSV(Hue, Saturation, Value)**\n",
    "\n",
    "![image](https://upload.wikimedia.org/wikipedia/commons/thumb/a/a0/Hsl-hsv_models.svg/400px-Hsl-hsv_models.svg.png)\n",
    "\n",
    "**LAB**\n",
    "\n",
    "![image](https://www.researchgate.net/profile/SUDHIR_SHUKLA/publication/23789543/figure/fig3/AS:276894424551429@1443028183655/The-cubical-CIE-Lab-color-space.png)\n",
    "\n",
    "比起 RGB 的表示方式，LAB 可以表示的顏色範圍更大也更接近人眼可以感知的範圍\n",
    "* L = Lighness 以 0~100 決定明亮度\n",
    " * 數值由小到大，由黑到白\n",
    "* A 以 -128~127 代表顏色對立的維度\n",
    " * 數值由小到大，由綠到紅\n",
    "* B 以 -128~127 代表顏色對立的維度\n",
    " * 數值由小到大，由藍到黃\n",
    "\n",
    "**RGBA**\n",
    "\n",
    "A is transparency\n",
    "\n",
    "## 改變圖片呈現方式\n",
    "\n",
    "$\\rightarrow$ `cv2.cvtColor(IMAGE, CODE)`\n",
    "\n",
    "CODE:\n",
    "* `COLOR_BGR2HSV`\n",
    "* `COLOR_BGR2HSL`\n",
    "* `COLOR_BGR2LAB`"
   ]
  },
  {
   "cell_type": "code",
   "execution_count": null,
   "metadata": {},
   "outputs": [],
   "source": []
  }
 ],
 "metadata": {
  "kernelspec": {
   "display_name": "Python 3",
   "language": "python",
   "name": "python3"
  },
  "language_info": {
   "codemirror_mode": {
    "name": "ipython",
    "version": 3
   },
   "file_extension": ".py",
   "mimetype": "text/x-python",
   "name": "python",
   "nbconvert_exporter": "python",
   "pygments_lexer": "ipython3",
   "version": "3.7.1"
  }
 },
 "nbformat": 4,
 "nbformat_minor": 2
}
