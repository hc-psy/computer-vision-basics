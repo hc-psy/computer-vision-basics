{
 "cells": [
  {
   "cell_type": "markdown",
   "metadata": {},
   "source": [
    "# 範例\n",
    "\n",
    "根據以下的參考點，嘗試做透視變換\n",
    "\n",
    "```\n",
    "point1 = np.array([[60, 40], [420, 40], [420, 510], [60, 510]], dtype=np.float32)\n",
    "point2 = np.array([[0, 80], [w, 120], [w, 430], [0, 470]], dtype=np.float32)\n",
    "```"
   ]
  },
  {
   "cell_type": "code",
   "execution_count": 1,
   "metadata": {},
   "outputs": [],
   "source": [
    "import cv2\n",
    "import numpy as np\n",
    "\n",
    "img = cv2.imread('lena.png')"
   ]
  },
  {
   "cell_type": "markdown",
   "metadata": {},
   "source": [
    "## 透視轉換"
   ]
  },
  {
   "cell_type": "code",
   "execution_count": null,
   "metadata": {},
   "outputs": [],
   "source": [
    "img_perspective = img.copy()\n",
    "h, w = img.shape[:2]\n",
    "\n",
    "# 設定四對點，並取得 perspective 矩陣\n",
    "point1 = np.array([[60, 40], [420, 40], [420, 510], [60, 510]], dtype=np.float32)\n",
    "point2 = np.array([[0, 80], [w, 120], [w, 430], [0, 470]], dtype=np.float32)\n",
    "M = cv2.getPerspectiveTransform(point1, point2)\n",
    "\n",
    "# perspective 轉換\n",
    "img_perspective = cv2.warpPerspective(img, M, (w, h))\n",
    "\n",
    "# 組合 + 顯示圖片\n",
    "img_show = np.hstack((img, img_perspective))\n",
    "while True:\n",
    "    cv2.imshow('perspective transform', img_show)\n",
    "    k = cv2.waitKey(0)\n",
    "    if k == 27:\n",
    "        cv2.destroyAllWindows()\n",
    "        break"
   ]
  },
  {
   "cell_type": "markdown",
   "metadata": {},
   "source": [
    "## 齊次座標 (homogeneous coordinate) 的概念\n",
    "\n",
    "簡單來說，齊次座標就是將 n 維的座標用 n+1 維的方式表示\n",
    "\n",
    "$\\begin{bmatrix} L & L& T\\\\ L & L& T\\\\P & P& i\\\\\\end{bmatrix} \\begin{bmatrix} x \\\\ y \\\\w = 1\\\\\\end{bmatrix} = \\begin{bmatrix} x' \\\\ y' \\\\w'\\\\\\end{bmatrix} \\rightarrow x_{new} = x'/w',\\ y_{new} = y'/w'$\n",
    "\n",
    "L is for linear transformation\n",
    "\n",
    "T is for translation transformation (共線不變性 and 比例不變性)\n",
    "\n",
    "P is for perspective transformation (invariant doesnt exist)\n",
    "\n",
    "![image.png](https://i.stack.imgur.com/eJfHf.jpg)"
   ]
  },
  {
   "cell_type": "code",
   "execution_count": null,
   "metadata": {},
   "outputs": [],
   "source": []
  }
 ],
 "metadata": {
  "kernelspec": {
   "display_name": "Python 3",
   "language": "python",
   "name": "python3"
  },
  "language_info": {
   "codemirror_mode": {
    "name": "ipython",
    "version": 3
   },
   "file_extension": ".py",
   "mimetype": "text/x-python",
   "name": "python",
   "nbconvert_exporter": "python",
   "pygments_lexer": "ipython3",
   "version": "3.7.1"
  }
 },
 "nbformat": 4,
 "nbformat_minor": 2
}
