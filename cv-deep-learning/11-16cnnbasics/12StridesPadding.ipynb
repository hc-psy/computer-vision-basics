{
 "cells": [
  {
   "cell_type": "markdown",
   "metadata": {
    "colab_type": "text",
    "id": "7CtbcEb4yTiT"
   },
   "source": [
    "Strides：控制 Kernel 在圖像不同 Dimention 上移動的距離。\n",
    "\n",
    "Padding：Padding的用途主要在於避免圖像尺寸下降，而為了避免干擾圖像資訊，通常Padding為補 0 的像素，而 Padding=1 就是在圖像周圍補一圈值為 0 的像素。\n",
    "\n",
    "* Valid：就是不去 Padding，多的像素直接捨去。\n",
    "* Same：透過補邊讓輸出長寬==原圖長寬/Strides。假如我們使用Strides=(1,1)，那麼不管使用多大的Kernel，輸出 Feature map 的寬、高等於輸入影像的寬高。\n",
    "\n",
    "## Output = floor((Input+2\\*padding-Kernel_Size)/Stride)+1"
   ]
  },
  {
   "cell_type": "code",
   "execution_count": 1,
   "metadata": {
    "colab": {},
    "colab_type": "code",
    "id": "2fhi3otQyTiU"
   },
   "outputs": [],
   "source": [
    "from keras.models import Sequential\n",
    "from keras.layers import Convolution2D\n",
    "from keras.layers import Input, Dense\n",
    "from keras.models import Model"
   ]
  },
  {
   "cell_type": "code",
   "execution_count": 3,
   "metadata": {},
   "outputs": [
    {
     "name": "stdout",
     "output_type": "stream",
     "text": [
      "Model: \"model_1\"\n",
      "_________________________________________________________________\n",
      "Layer (type)                 Output Shape              Param #   \n",
      "=================================================================\n",
      "input_2 (InputLayer)         [(None, 13, 13, 1)]       0         \n",
      "_________________________________________________________________\n",
      "conv2d_1 (Conv2D)            (None, 13, 13, 32)        320       \n",
      "=================================================================\n",
      "Total params: 320\n",
      "Trainable params: 320\n",
      "Non-trainable params: 0\n",
      "_________________________________________________________________\n"
     ]
    }
   ],
   "source": [
    "##kernel size=(6,6)\n",
    "##kernel數量：32\n",
    "\n",
    "## Same padding、strides=(1,1)\n",
    "classifier=Sequential()\n",
    "inputs = Input(shape=(13,13,1))\n",
    "x=Convolution2D(filters = 32, kernel_size=(3,3), strides=(1, 1), padding='same')(inputs) #邊界模式=same (填補=0, 步幅=1)\n",
    "model = Model(inputs=inputs, outputs=x)\n",
    "model.summary()"
   ]
  },
  {
   "cell_type": "code",
   "execution_count": 9,
   "metadata": {},
   "outputs": [
    {
     "name": "stdout",
     "output_type": "stream",
     "text": [
      "Model: \"model_7\"\n",
      "_________________________________________________________________\n",
      "Layer (type)                 Output Shape              Param #   \n",
      "=================================================================\n",
      "input_8 (InputLayer)         [(None, 13, 13, 1)]       0         \n",
      "_________________________________________________________________\n",
      "conv2d_7 (Conv2D)            (None, 7, 7, 32)          320       \n",
      "=================================================================\n",
      "Total params: 320\n",
      "Trainable params: 320\n",
      "Non-trainable params: 0\n",
      "_________________________________________________________________\n"
     ]
    }
   ],
   "source": [
    "## Same padding、strides=(2,2)\n",
    "classifier=Sequential()\n",
    "inputs = Input(shape=(13,13,1))\n",
    "x=Convolution2D(filters = 32, kernel_size=(3,3), strides=(2, 2), padding='same')(inputs)\n",
    "model = Model(inputs=inputs, outputs=x)\n",
    "model.summary()"
   ]
  },
  {
   "cell_type": "code",
   "execution_count": 5,
   "metadata": {},
   "outputs": [
    {
     "name": "stdout",
     "output_type": "stream",
     "text": [
      "Model: \"model_3\"\n",
      "_________________________________________________________________\n",
      "Layer (type)                 Output Shape              Param #   \n",
      "=================================================================\n",
      "input_4 (InputLayer)         [(None, 13, 13, 1)]       0         \n",
      "_________________________________________________________________\n",
      "conv2d_3 (Conv2D)            (None, 11, 11, 32)        320       \n",
      "=================================================================\n",
      "Total params: 320\n",
      "Trainable params: 320\n",
      "Non-trainable params: 0\n",
      "_________________________________________________________________\n"
     ]
    }
   ],
   "source": [
    "## Valid padding、strides=(1,1)\n",
    "classifier=Sequential()\n",
    "inputs = Input(shape=(13,13,1))\n",
    "x=Convolution2D(filters = 32, kernel_size=(3,3), strides=(1, 1), padding='valid')(inputs)\n",
    "model = Model(inputs=inputs, outputs=x)\n",
    "model.summary()"
   ]
  },
  {
   "cell_type": "code",
   "execution_count": 10,
   "metadata": {},
   "outputs": [
    {
     "name": "stdout",
     "output_type": "stream",
     "text": [
      "Model: \"model_8\"\n",
      "_________________________________________________________________\n",
      "Layer (type)                 Output Shape              Param #   \n",
      "=================================================================\n",
      "input_9 (InputLayer)         [(None, 13, 13, 1)]       0         \n",
      "_________________________________________________________________\n",
      "conv2d_8 (Conv2D)            (None, 6, 6, 32)          320       \n",
      "=================================================================\n",
      "Total params: 320\n",
      "Trainable params: 320\n",
      "Non-trainable params: 0\n",
      "_________________________________________________________________\n"
     ]
    }
   ],
   "source": [
    "## Valid padding、strides=(2,2)\n",
    "classifier=Sequential()\n",
    "inputs = Input(shape=(13,13,1))\n",
    "x=Convolution2D(filters = 32, kernel_size=(3,3), strides=(2, 2), padding='valid')(inputs)\n",
    "model = Model(inputs=inputs, outputs=x)\n",
    "model.summary()"
   ]
  },
  {
   "cell_type": "code",
   "execution_count": null,
   "metadata": {},
   "outputs": [],
   "source": [
    "# -------------"
   ]
  }
 ],
 "metadata": {
  "colab": {
   "name": "Strides and Padding.ipynb",
   "provenance": []
  },
  "kernelspec": {
   "display_name": "Python 3",
   "language": "python",
   "name": "python3"
  },
  "language_info": {
   "codemirror_mode": {
    "name": "ipython",
    "version": 3
   },
   "file_extension": ".py",
   "mimetype": "text/x-python",
   "name": "python",
   "nbconvert_exporter": "python",
   "pygments_lexer": "ipython3",
   "version": "3.7.1"
  }
 },
 "nbformat": 4,
 "nbformat_minor": 1
}
